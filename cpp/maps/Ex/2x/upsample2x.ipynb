{
 "cells": [
  {
   "cell_type": "code",
   "execution_count": 1,
   "metadata": {},
   "outputs": [],
   "source": [
    "import cv2\n",
    "import numpy as np\n",
    "import os\n",
    "import glob\n",
    "from matplotlib import pyplot as plt\n",
    "import time\n",
    "#os.chdir(os.path.dirname(os.path.realpath(__file__)))"
   ]
  },
  {
   "cell_type": "code",
   "execution_count": 2,
   "metadata": {},
   "outputs": [],
   "source": [
    "maps = list(glob.glob('*.png'))"
   ]
  },
  {
   "cell_type": "code",
   "execution_count": 20,
   "metadata": {},
   "outputs": [
    {
     "name": "stdout",
     "output_type": "stream",
     "text": [
      "Resized Dimensions :  (50, 50, 3)\n",
      "Resized Dimensions :  (50, 50, 3)\n",
      "Resized Dimensions :  (50, 50, 3)\n",
      "Resized Dimensions :  (50, 50, 3)\n",
      "Resized Dimensions :  (40, 40, 3)\n",
      "Resized Dimensions :  (40, 40, 3)\n",
      "Resized Dimensions :  (40, 80, 3)\n",
      "Resized Dimensions :  (40, 80, 3)\n"
     ]
    }
   ],
   "source": [
    "for mapf in maps:\n",
    "    img = cv2.imread(mapf)\n",
    "    print('Resized Dimensions : ',img.shape)\n",
    "    scale_percent = 200\n",
    "    width = int(img.shape[1] * scale_percent / 100)\n",
    "    height = int(img.shape[0] * scale_percent / 100)\n",
    "    dim = (width, height)\n",
    "    resized = cv2.resize(img, dim, interpolation = cv2.INTER_AREA)\n",
    "    cv2.imwrite(mapf.replace('.png','_2x.png'),resized)"
   ]
  },
  {
   "cell_type": "code",
   "execution_count": 26,
   "metadata": {},
   "outputs": [],
   "source": [
    "grounds = []\n",
    "for mapf in maps:\n",
    "    img = cv2.imread(mapf)\n",
    "    width,height,_ = img.shape\n",
    "    dim = (width, height,3)\n",
    "    flag = False\n",
    "    for gin in grounds:\n",
    "        if gin == dim:\n",
    "            flag = True\n",
    "            break\n",
    "    if flag:\n",
    "        continue\n",
    "    ground = np.ones(dim)*255\n",
    "    cv2.imwrite(\"ground_\" + str(dim[0]) + \"_\" + str(dim[1]) + '.png',ground)"
   ]
  },
  {
   "cell_type": "code",
   "execution_count": 22,
   "metadata": {},
   "outputs": [
    {
     "data": {
      "text/plain": [
       "True"
      ]
     },
     "execution_count": 22,
     "metadata": {},
     "output_type": "execute_result"
    }
   ],
   "source": [
    "(1,0) == (1,0)"
   ]
  },
  {
   "cell_type": "code",
   "execution_count": null,
   "metadata": {},
   "outputs": [],
   "source": []
  }
 ],
 "metadata": {
  "interpreter": {
   "hash": "26de051ba29f2982a8de78e945f0abaf191376122a1563185a90213a26c5da77"
  },
  "kernelspec": {
   "display_name": "Python 3.10.4 64-bit",
   "language": "python",
   "name": "python3"
  },
  "language_info": {
   "codemirror_mode": {
    "name": "ipython",
    "version": 3
   },
   "file_extension": ".py",
   "mimetype": "text/x-python",
   "name": "python",
   "nbconvert_exporter": "python",
   "pygments_lexer": "ipython3",
   "version": "3.10.4"
  },
  "orig_nbformat": 4
 },
 "nbformat": 4,
 "nbformat_minor": 2
}
